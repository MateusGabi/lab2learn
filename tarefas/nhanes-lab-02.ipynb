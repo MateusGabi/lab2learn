{
 "cells": [
  {
   "cell_type": "code",
   "execution_count": 22,
   "metadata": {},
   "outputs": [],
   "source": [
    "%defaultDatasource jdbc:h2:mem:db"
   ]
  },
  {
   "cell_type": "markdown",
   "metadata": {},
   "source": [
    "# Analisando o Uso de Medicamentos\n",
    "* Esta tarefa analisará os dados conforme três abordagens: análise do comportamento estatístico; análise de correlação entre pares; análise de correlação de variáveis.\n",
    "* A partir dos arquivos CSV que estão no diretórios /data/nhanes considere as seguintes tabelas SQL."
   ]
  },
  {
   "cell_type": "code",
   "execution_count": 24,
   "metadata": {},
   "outputs": [
    {
     "ename": "org.h2.jdbc.JdbcSQLException",
     "evalue": " Table \"PESSOA\" already exists; SQL statement",
     "output_type": "error",
     "traceback": [
      "\u001b[1;31morg.h2.jdbc.JdbcSQLException: Table \"PESSOA\" already exists; SQL statement:\u001b[0;0m",
      "\u001b[1;31mCREATE TABLE Pessoa (\u001b[0;0m",
      "\u001b[1;31mId VARCHAR(5) NOT NULL,\u001b[0;0m",
      "\u001b[1;31mGenero INTEGER,\u001b[0;0m",
      "\u001b[1;31mIdade INTEGER,\u001b[0;0m",
      "\u001b[1;31mPRIMARY KEY(Id)\u001b[0;0m",
      "\u001b[1;31m) AS SELECT\u001b[0;0m",
      "\u001b[1;31mId,\u001b[0;0m",
      "\u001b[1;31mGenero,\u001b[0;0m",
      "\u001b[1;31mIdade\u001b[0;0m",
      "\u001b[1;31mFROM CSVREAD('../data/nhanes/demographic-person.csv') [42101-197]\u001b[0;0m"
     ]
    }
   ],
   "source": [
    "CREATE TABLE Pessoa (\n",
    "  Id VARCHAR(5) NOT NULL,\n",
    "  Genero INTEGER,\n",
    "  Idade INTEGER,\n",
    "  PRIMARY KEY(Id)\n",
    ") AS SELECT\n",
    "    Id,\n",
    "    Genero,\n",
    "    Idade\n",
    "FROM CSVREAD('../data/nhanes/demographic-person.csv');\n",
    "\n",
    "CREATE TABLE Medicamento (\n",
    "  Codigo VARCHAR(6) NOT NULL,\n",
    "  NomeMedicamento VARCHAR(100) NOT NULL,\n",
    "  PRIMARY KEY(Codigo)\n",
    ") AS SELECT\n",
    "    Codigo,\n",
    "    NomeMedicamento\n",
    "FROM CSVREAD('../data/nhanes/medications-drug.csv');\n",
    "\n",
    "CREATE TABLE UsoMedicamento (\n",
    "  IdPessoa VARCHAR(5) NOT NULL,\n",
    "  CodMedicamento VARCHAR(6) NOT NULL,\n",
    "  DiasUso INTEGER,\n",
    "  FOREIGN KEY(IdPessoa)\n",
    "    REFERENCES Pessoa(Id)\n",
    "      ON DELETE NO ACTION\n",
    "      ON UPDATE NO ACTION,\n",
    "  FOREIGN KEY(CodMedicamento)\n",
    "    REFERENCES Medicamento(Codigo)\n",
    "      ON DELETE NO ACTION\n",
    "      ON UPDATE NO ACTION\n",
    ") AS SELECT\n",
    "    IdPessoa,\n",
    "    CodMedicamento,\n",
    "    DiasUso\n",
    "FROM CSVREAD('../data/nhanes/medications-use.csv');"
   ]
  },
  {
   "cell_type": "code",
   "execution_count": 5,
   "metadata": {},
   "outputs": [
    {
     "data": {
      "application/vnd.jupyter.widget-view+json": {
       "model_id": "980cc5f4-8223-41a0-8604-0cdc3bb93bf6",
       "version_major": 2,
       "version_minor": 0
      },
      "method": "display_data"
     },
     "metadata": {},
     "output_type": "display_data"
    },
    {
     "data": {
      "application/vnd.jupyter.widget-view+json": {
       "model_id": "9ed73a1e-d393-4ca5-8357-de1aefa1007a",
       "version_major": 2,
       "version_minor": 0
      },
      "method": "display_data"
     },
     "metadata": {},
     "output_type": "display_data"
    },
    {
     "data": {
      "application/vnd.jupyter.widget-view+json": {
       "model_id": "e32ad273-6cd3-4953-990b-b683be6278ab",
       "version_major": 2,
       "version_minor": 0
      },
      "method": "display_data"
     },
     "metadata": {},
     "output_type": "display_data"
    }
   ],
   "source": [
    "SELECT * FROM Pessoa;\n",
    "SELECT * FROM Medicamento;\n",
    "SELECT * FROM UsoMedicamento;"
   ]
  },
  {
   "cell_type": "markdown",
   "metadata": {},
   "source": [
    "# I. Análise de comportamento estatístico"
   ]
  },
  {
   "cell_type": "markdown",
   "metadata": {},
   "source": [
    "## 1) Contabilizando o uso de medicamentos\n",
    "\n",
    "* Liste o nome de todos os medicamentos e a quantidade de pessoas que usa cada um deles."
   ]
  },
  {
   "cell_type": "code",
   "execution_count": 25,
   "metadata": {},
   "outputs": [
    {
     "data": {
      "application/vnd.jupyter.widget-view+json": {
       "model_id": "a7457609-9d9f-4b6d-ae1a-8d7140e0a0fc",
       "version_major": 2,
       "version_minor": 0
      },
      "method": "display_data"
     },
     "metadata": {},
     "output_type": "display_data"
    }
   ],
   "source": [
    "select count(*) as qtde, Medicamento.NomeMedicamento from UsoMedicamento\n",
    "inner join Medicamento on Medicamento.Codigo = UsoMedicamento.CodMedicamento\n",
    "group by CodMedicamento"
   ]
  },
  {
   "cell_type": "markdown",
   "metadata": {},
   "source": [
    "## 2) Medicamento mais usado com VIEW\n",
    "\n",
    "* Informe o código do medicamento mais usado: fazendo uso de VIEW."
   ]
  },
  {
   "cell_type": "code",
   "execution_count": 38,
   "metadata": {},
   "outputs": [
    {
     "data": {
      "text/plain": [
       "d00732"
      ]
     },
     "execution_count": 38,
     "metadata": {},
     "output_type": "execute_result"
    }
   ],
   "source": [
    "DROP VIEW IF EXISTS UsoMedicamentos;\n",
    "\n",
    "CREATE VIEW IF NOT EXISTS UsoMedicamentos AS\n",
    "select Medicamento.Codigo, count(*) as Quantidade, Medicamento.NomeMedicamento from UsoMedicamento\n",
    "inner join Medicamento on Medicamento.Codigo = UsoMedicamento.CodMedicamento\n",
    "group by CodMedicamento\n",
    "order by Quantidade DESC\n",
    "LIMIT 1;\n",
    "\n",
    "SELECT Codigo from UsoMedicamentos"
   ]
  },
  {
   "cell_type": "markdown",
   "metadata": {},
   "source": [
    "## 3) Medicamento mais usado sem VIEW\n",
    "\n",
    "* Informe o código do medicamento mais usado: sem fazer uso de VIEW."
   ]
  },
  {
   "cell_type": "code",
   "execution_count": 41,
   "metadata": {},
   "outputs": [
    {
     "data": {
      "application/vnd.jupyter.widget-view+json": {
       "model_id": "7b26fdb8-53da-4aaf-a405-fec6644b8413",
       "version_major": 2,
       "version_minor": 0
      },
      "method": "display_data"
     },
     "metadata": {},
     "output_type": "display_data"
    }
   ],
   "source": [
    "select Medicamento.Codigo, count(*) as Quantidade from UsoMedicamento\n",
    "inner join Medicamento on Medicamento.Codigo = UsoMedicamento.CodMedicamento\n",
    "group by CodMedicamento\n",
    "order by Quantidade DESC\n",
    "LIMIT 1;"
   ]
  },
  {
   "cell_type": "markdown",
   "metadata": {},
   "source": [
    "## 4) Nome do medicamento mais usado\n",
    "* Informe o nome do medicamento mais usado (uso de VIEW é opcional)."
   ]
  },
  {
   "cell_type": "code",
   "execution_count": 42,
   "metadata": {},
   "outputs": [
    {
     "data": {
      "text/plain": [
       "LISINOPRIL"
      ]
     },
     "execution_count": 42,
     "metadata": {},
     "output_type": "execute_result"
    }
   ],
   "source": [
    "SELECT NomeMedicamento from UsoMedicamentos"
   ]
  },
  {
   "cell_type": "markdown",
   "metadata": {},
   "source": [
    "## 5) Contabilizando quanto as pessoas usam de medicamento\n",
    "\n",
    "* Informe o número médio de uso de medicamento por pessoa."
   ]
  },
  {
   "cell_type": "code",
   "execution_count": 50,
   "metadata": {},
   "outputs": [
    {
     "data": {
      "text/plain": [
       "3"
      ]
     },
     "execution_count": 50,
     "metadata": {},
     "output_type": "execute_result"
    }
   ],
   "source": [
    "select avg(qtde) from (\n",
    "    select count(*) as qtde from UsoMedicamento group by IdPessoa\n",
    ")"
   ]
  },
  {
   "cell_type": "markdown",
   "metadata": {},
   "source": [
    "## 6) Pessoas que usam mais do que a média\n",
    "\n",
    "* Liste o id das pessoas que usam mais medicamentos do que a média."
   ]
  },
  {
   "cell_type": "code",
   "execution_count": 61,
   "metadata": {
    "scrolled": true
   },
   "outputs": [
    {
     "data": {
      "application/vnd.jupyter.widget-view+json": {
       "model_id": "38c389f2-84f6-484d-b34a-90fc3274ed4d",
       "version_major": 2,
       "version_minor": 0
      },
      "method": "display_data"
     },
     "metadata": {},
     "output_type": "display_data"
    }
   ],
   "source": [
    "select IdPessoa from (\n",
    "select count(*) as qtde, IdPessoa from UsoMedicamento group by IdPessoa having qtde > (\n",
    "select avg(qtde) from (\n",
    "    select count(*) as qtde from UsoMedicamento group by IdPessoa\n",
    "))\n",
    ")"
   ]
  },
  {
   "cell_type": "markdown",
   "metadata": {},
   "source": [
    "## 7) Análise do uso de medicamento\n",
    "\n",
    "* Considere que um médico quer fazer responder a seguinte questão: pessoas tendem a usar mais medicamentos conforme ficam mais velhas?\n",
    "* Escreva uma query que ajude o médico a realizar esta análise."
   ]
  },
  {
   "cell_type": "code",
   "execution_count": 64,
   "metadata": {},
   "outputs": [
    {
     "data": {
      "application/vnd.jupyter.widget-view+json": {
       "model_id": "c1c47412-2f84-4826-a622-1836781108e4",
       "version_major": 2,
       "version_minor": 0
      },
      "method": "display_data"
     },
     "metadata": {},
     "output_type": "display_data"
    }
   ],
   "source": [
    "select\n",
    "    count(*) as qtde, Pessoa.Idade\n",
    "from UsoMedicamento\n",
    "inner join Pessoa on Pessoa.Id = UsoMedicamento.IdPessoa\n",
    "group by IdPessoa\n",
    "order by qtde DESC"
   ]
  },
  {
   "cell_type": "markdown",
   "metadata": {},
   "source": [
    "# II. Análise de correlação em pares\n",
    "## Estudo de ação cruzada entre medicamentos\n",
    "\n",
    "* Um pesquisador quer estudar o efeito cruzado de usar dois medicamentos simultaneamente. \n",
    "* Para isso ele precisará da seguinte sequência de queries."
   ]
  },
  {
   "cell_type": "markdown",
   "metadata": {},
   "source": [
    "## 8) Medicamentos tomados em conjunto\n",
    "* Construa uma VIEW com duas colunas: medicamentoA, medicamentoB\n",
    "* Nessa VIEW, é criada uma tupla (medicamentoA, medicamentoB) toda vez que uma pessoa toma o medicamento A e também o medicamento B.\n",
    "* Haverá repetição de tuplas, já que mais de uma pessoa pode tomar o mesmo par de medicamentos.\n",
    "* Cuidado para não duplicar a mesma informação, ou seja, considerando que uma pessoa tomou o medicamentoX e o medicamentoY, cuidado para não criar duas tuplas: (medicamentoX, medicamentoY) e (medicamentoY, medicamentoX)."
   ]
  },
  {
   "cell_type": "code",
   "execution_count": null,
   "metadata": {},
   "outputs": [],
   "source": []
  },
  {
   "cell_type": "markdown",
   "metadata": {},
   "source": [
    "## 9) Total de medicamento tomados em conjunto\n",
    "* Apresente o total de pessoas que toma cada par de medicamentos."
   ]
  },
  {
   "cell_type": "code",
   "execution_count": null,
   "metadata": {},
   "outputs": [],
   "source": []
  },
  {
   "cell_type": "markdown",
   "metadata": {},
   "source": [
    "# III. Análise de correlação entre variáveis\n",
    "* Consiste na análise da seguinte questão: como a alteração de uma variável afeta a outra.\n",
    "## Matriz de análise\n",
    "* Considere a matriz abaixo."
   ]
  },
  {
   "cell_type": "code",
   "execution_count": 4,
   "metadata": {},
   "outputs": [
    {
     "data": {
      "application/vnd.jupyter.widget-view+json": {
       "model_id": "1f49994c-de79-460b-8fc6-c28781c1ae07",
       "version_major": 2,
       "version_minor": 0
      },
      "method": "display_data"
     },
     "metadata": {},
     "output_type": "display_data"
    }
   ],
   "source": [
    "CREATE TABLE Matriz (\n",
    "  Id VARCHAR(5) NOT NULL,\n",
    "  Genero INTEGER,\n",
    "  Idade INTEGER,\n",
    "  IdadeAte60 BOOLEAN,\n",
    "  MaisUmAnoMedicamento BOOLEAN,\n",
    "  MedicamentosAcimaMedia BOOLEAN,\n",
    "  PRIMARY KEY(Id)\n",
    ") AS SELECT\n",
    "    Id,\n",
    "    Genero,\n",
    "    Idade,\n",
    "    FALSE, FALSE, FALSE\n",
    "FROM CSVREAD('../data/nhanes/demographic-person.csv');\n",
    "\n",
    "SELECT * FROM Matriz;"
   ]
  },
  {
   "cell_type": "markdown",
   "metadata": {},
   "source": [
    "## 10) Atualização simples da matriz\n",
    "* Utilize o comando UPDATE para atualizar a coluna IdadeAte60 da tabela colocando verdadeiro para as pessoas que têm até 60 anos de idade."
   ]
  },
  {
   "cell_type": "code",
   "execution_count": null,
   "metadata": {},
   "outputs": [],
   "source": []
  },
  {
   "cell_type": "markdown",
   "metadata": {},
   "source": [
    "## 11) Atualização vinculada a uma segunda tabela\n",
    "* Utilize o comando UPDATE para atualizar a coluna MaisUmAnoMedicamento, colocando verdadeiro para aquelas pessoas que usam pelo menos um medicamento há mais de um ano."
   ]
  },
  {
   "cell_type": "code",
   "execution_count": null,
   "metadata": {},
   "outputs": [],
   "source": []
  },
  {
   "cell_type": "markdown",
   "metadata": {},
   "source": [
    "## 12) Atualização baseada em uma consulta complexa\n",
    "* Utilize o comando UPDATE para atualizar a coluna MedicamentosAcimaMedia, colocando verdadeiro para aquelas pessoas que usam um número de medicamentos acima da média."
   ]
  },
  {
   "cell_type": "code",
   "execution_count": null,
   "metadata": {},
   "outputs": [],
   "source": []
  },
  {
   "cell_type": "markdown",
   "metadata": {},
   "source": [
    "## 13) Que análise interessante pode ser feita?\n",
    "* A partir da Matriz criada, proponha uma análise interessante."
   ]
  },
  {
   "cell_type": "markdown",
   "metadata": {},
   "source": [
    "### 13a) Descreva a seguir (em Markdown) qual a análise que você propõe."
   ]
  },
  {
   "cell_type": "code",
   "execution_count": null,
   "metadata": {},
   "outputs": [],
   "source": []
  },
  {
   "cell_type": "markdown",
   "metadata": {},
   "source": [
    "### 13b) Escreva uma consulta em SQL que fornece informações para a análise proposta."
   ]
  },
  {
   "cell_type": "code",
   "execution_count": null,
   "metadata": {},
   "outputs": [],
   "source": []
  }
 ],
 "metadata": {
  "kernelspec": {
   "display_name": "SQL",
   "language": "SQL",
   "name": "sql"
  },
  "language_info": {
   "codemirror_mode": "sql",
   "file_extension": ".sql",
   "mimetype": "",
   "name": "SQL",
   "nbconverter_exporter": "",
   "version": ""
  },
  "toc": {
   "base_numbering": 1,
   "nav_menu": {},
   "number_sections": false,
   "sideBar": false,
   "skip_h1_title": false,
   "title_cell": "Table of Contents",
   "title_sidebar": "Contents",
   "toc_cell": false,
   "toc_position": {},
   "toc_section_display": false,
   "toc_window_display": false
  }
 },
 "nbformat": 4,
 "nbformat_minor": 2
}
